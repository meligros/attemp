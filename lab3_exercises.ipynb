{
  "nbformat": 4,
  "nbformat_minor": 0,
  "metadata": {
    "colab": {
      "name": "lab3_exercise.ipynb",
      "provenance": [],
      "collapsed_sections": [
        "GrAKu-PaMM4R",
        "awwvMCtpMfMm"
      ]
    },
    "kernelspec": {
      "name": "python3",
      "display_name": "Python 3"
    }
  },
  "cells": [
    {
      "cell_type": "markdown",
      "metadata": {
        "id": "GrAKu-PaMM4R"
      },
      "source": [
        "# Course: ITI1120 - F Winter 2021\r\n",
        " \r\n",
        "# LAB 3 - Exercises"
      ]
    },
    {
      "cell_type": "markdown",
      "metadata": {
        "id": "-WpbbbKFIVrM"
      },
      "source": [
        "##  Exercise 0 - Part 1\n",
        "\n",
        "In function info_day(today, weather, temperature), their is a print statement which is labeled as line 1. \n",
        "\n",
        "You are asked to create a string s below which allows the statement print(s) prints the SAME massage as line 1. "
      ]
    },
    {
      "cell_type": "code",
      "metadata": {
        "id": "QoS7sGPvHT97"
      },
      "source": [
        "def info_day(today, weather, temperature):\n",
        "     print(today, \"is a\", weather, \"day. The temperature is\", temperature, \"degrees Celsius.\")   ###line 1\n",
        "\n",
        "     # Create a string s below such that print(s) command below\n",
        "     # prints the exact same message as the above print statement.\n",
        "     # Once you are done, uncomment the two lines of code below\n",
        "     #\n",
        "     #s=\n",
        "     #print(s)"
      ],
      "execution_count": null,
      "outputs": []
    },
    {
      "cell_type": "code",
      "metadata": {
        "id": "cFoWF-IhJKvM"
      },
      "source": [
        "# task cases for info_day(...)\n",
        "\n",
        "info_day(\"Saturday\", \"nice\", 29)\n",
        "info_day(\"Monday\", \"so so\", 15)"
      ],
      "execution_count": null,
      "outputs": []
    },
    {
      "cell_type": "markdown",
      "metadata": {
        "id": "jciHbDiRJH8G"
      },
      "source": [
        "##  Exercise 0 - Part 2\n",
        "\n",
        "Debug the following code cell."
      ]
    },
    {
      "cell_type": "code",
      "metadata": {
        "id": "kvBw92T0JIEa"
      },
      "source": [
        "# Run the Cell. Why does it crash?\n",
        "# Can you fix it without chaning function call: letter_grade(\"B\")\n",
        "\n",
        "def letter_grade(\"grade\"):\n",
        "    print(\"Your grade is\", \"grade\")\n",
        "\n",
        "letter_grade(\"B\")"
      ],
      "execution_count": null,
      "outputs": []
    },
    {
      "cell_type": "markdown",
      "metadata": {
        "id": "73RKnfZXJIqG"
      },
      "source": [
        "##  Exercise 0 - Part 3\n",
        "Add a new code cell and implement a function namely average_of_two. \n",
        "\n",
        "It should act the same as the following cell.  Obtaining the input from the user and printing of the result must still be outside of the the function.\n",
        "\n",
        "Make sure to write DOCSTRINGS for your function, including TYPE CONTRACT.\n",
        "\n",
        "Test it by running help(average_of_two)."
      ]
    },
    {
      "cell_type": "code",
      "metadata": {
        "id": "KZPeOQvgJIw2"
      },
      "source": [
        "x=float(input(\"Give me 1st number: \"))\n",
        "y=float(input(\"give me 2nd number: \"))\n",
        "\n",
        "average=(x+y)/2\n",
        "\n",
        "print(\"The average of\", x, \"and\", y,\"is\", average)"
      ],
      "execution_count": null,
      "outputs": []
    },
    {
      "cell_type": "markdown",
      "metadata": {
        "id": "awwvMCtpMfMm"
      },
      "source": [
        "# Exercise 1"
      ]
    },
    {
      "cell_type": "markdown",
      "metadata": {
        "id": "NwrAWCtpNntV"
      },
      "source": [
        "Write function called pay that takes as input an hourly wage and the number of hours an employee worked in the last week. The function should compute and return the employee’s pay. Overtime work should be paid in this way: Any hours beyond 40 but less than or equal 60 should be paid at 1.5 times the regular hourly wage. Any hours beyond 60 should be paid at 2 times the regular hourly wage. Important: "
      ]
    },
    {
      "cell_type": "markdown",
      "metadata": {
        "id": "IX2ZfN2yNqGH"
      },
      "source": [
        "**Important**: Note that I did not give you either the number of parameters or the names of parameters. You will have to figure it out on your own for this function. Looking at the test examples below should help."
      ]
    },
    {
      "cell_type": "code",
      "metadata": {
        "id": "gVSN37JxNRGX"
      },
      "source": [
        "### complete your code here ###\n",
        "\n",
        "\n",
        "\n",
        "\n",
        "\n",
        "\n",
        "### complete your code here ###"
      ],
      "execution_count": null,
      "outputs": []
    },
    {
      "cell_type": "code",
      "metadata": {
        "id": "ewbAGgjkN-ZQ"
      },
      "source": [
        "# task cases for pay(...)\n",
        "print(pay(10, 35)) # excepting 350\n",
        "print(pay(10, 45)) # excepting 475.0\n",
        "print(pay(10, 61)) # excepting 720.0"
      ],
      "execution_count": null,
      "outputs": []
    },
    {
      "cell_type": "markdown",
      "metadata": {
        "id": "ZyzanFokMfbK"
      },
      "source": [
        "# Exercise 2"
      ]
    },
    {
      "cell_type": "markdown",
      "metadata": {
        "id": "JG_8G6AjN6y7"
      },
      "source": [
        "Rock, Paper, Scissors is a two-player game in which each player chooses one of three items. If both players choose the same item, the game is tied. Otherwise, the rules that determine the winner are: \n",
        "\n",
        "\n",
        "\n",
        "1.   Rock always beats Scissors (Rock crushes Scissors) \n",
        "2.   Scissors always beats Paper (Scissors cut Paper)\n",
        "3.   Paper always beats Rock (Paper covers Rock)\n",
        "\n",
        "\n",
        "Write a  function called rps that takes the choice  'R', 'P', or ‘S' of player 1 and the choice of player 2, and returns −1 if player 1 wins, 1 if player 2 wins, or 0 if there is a tie.”\n",
        "\n",
        "\n",
        "**Important**: Note that I did not give you either the number of parameters or the names of parameters. You will have to figure it out on your own. Looking at the example runs  below should help too:\n"
      ]
    },
    {
      "cell_type": "code",
      "metadata": {
        "id": "14gFMginN5PD"
      },
      "source": [
        "### complete your code here ###\n",
        "\n",
        "\n",
        "\n",
        "\n",
        "\n",
        "\n",
        "### complete your code here ###"
      ],
      "execution_count": null,
      "outputs": []
    },
    {
      "cell_type": "code",
      "metadata": {
        "id": "rI_kXNGiOzZG"
      },
      "source": [
        "# task cases for rpc(...)\n",
        "print(rps('R', 'P')) # excepting 1\n",
        "print(rps('R', 'S')) # excepting -1\n",
        "print(rps('S', 'S')) # excepting 0"
      ],
      "execution_count": null,
      "outputs": []
    },
    {
      "cell_type": "markdown",
      "metadata": {
        "id": "u6yM_qfeMfgw"
      },
      "source": [
        "# Exercise 3"
      ]
    },
    {
      "cell_type": "markdown",
      "metadata": {
        "id": "HVQ83wGZRjXu"
      },
      "source": [
        "Write a program that uses a function called is_divisible().\n",
        "\n",
        "The function is_divisible has two input parameters that are integers n and m and returns True if n is divisible by m and False otherwise.\n",
        "\n",
        "Outside of that function, your program should interact with the user to get two integers. \n",
        "\n",
        "To determine if the 1st is divisible by the 2nd it should call is_divisible  function. It should print a message explaining the result. \n",
        "\n",
        "**Important:** You are provided with a test case for this exercise. You have to test your program by manually fill in the inputs. Make sure the program behaves as your expection.  "
      ]
    },
    {
      "cell_type": "code",
      "metadata": {
        "id": "G8Xp9zoCSezw"
      },
      "source": [
        "### Implement your function here ###\n",
        "\n",
        "# declear your function (name, parameters, docstring...)\n",
        "\n",
        "# do the computation \n",
        "\n",
        "# return the result(s)\n",
        "\n",
        "### Implement your function here ###"
      ],
      "execution_count": null,
      "outputs": []
    },
    {
      "cell_type": "code",
      "metadata": {
        "id": "TmednapGPpiT"
      },
      "source": [
        "### Start your program here ###\n",
        "\n",
        "# gather inputs\n",
        "\n",
        "\n",
        "# make the function call and collect returns\n",
        "\n",
        "\n",
        "# display the result\n",
        "\n",
        "\n",
        "### Start your program here ###"
      ],
      "execution_count": null,
      "outputs": []
    },
    {
      "cell_type": "markdown",
      "metadata": {
        "id": "oPk1SSdLMZUU"
      },
      "source": [
        "# Exercise 4"
      ]
    },
    {
      "cell_type": "markdown",
      "metadata": {
        "id": "72D0-P6dS8xE"
      },
      "source": [
        "Write a program that uses two functions one called is_divisible and the other called is_divisible23n8()\n",
        "\n",
        "The function is_divisible() is the same as in the previous questions so you can use it from one of your previous cells.\n",
        "\n",
        "The function is_divisible23n8 has one input parameter, an integer. It should return string “yes” if the given number is divisible by 2 or 3 but NOT 8. Otherwise it should return a string “no”. Your function  is_divisible23n8 must use (make a call to) is_divisible()\n",
        "\n",
        "Outside of that function, your program should interact with the user to get one integer. It should call is_divisible23n8  function to deterimen if the number the user gave is divisible by 2 or 3 but not 8. It should print a message explaining the result.\n"
      ]
    },
    {
      "cell_type": "code",
      "metadata": {
        "id": "IMgOQQ18THSg"
      },
      "source": [
        "### Implement your function here ###\n",
        "\n",
        "# declear your function (name, parameters, docstring...)\n",
        "\n",
        "# do the computation \n",
        "\n",
        "# return the result(s)\n",
        "\n",
        "### Implement your function here ###"
      ],
      "execution_count": null,
      "outputs": []
    },
    {
      "cell_type": "code",
      "metadata": {
        "id": "RhizjNAxTHSj"
      },
      "source": [
        "### Start your program here ###\n",
        "\n",
        "# gather inputs\n",
        "\n",
        "\n",
        "# make the function call and collect returns\n",
        "\n",
        "\n",
        "# display the result\n",
        "\n",
        "\n",
        "### Start your program here ###"
      ],
      "execution_count": null,
      "outputs": []
    }
  ]
}